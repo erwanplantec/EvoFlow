{
 "cells": [
  {
   "cell_type": "markdown",
   "id": "46a22943-fb40-4a65-a8e2-e67702cfcc5c",
   "metadata": {},
   "source": [
    "# Imports and Utils"
   ]
  },
  {
   "cell_type": "code",
   "execution_count": 1,
   "id": "804b526c-689f-46ab-9902-5614bd690ecd",
   "metadata": {},
   "outputs": [
    {
     "name": "stdout",
     "output_type": "stream",
     "text": [
      "env: CUDA_VISIBLE_DEVICES=\n"
     ]
    }
   ],
   "source": [
    "%env CUDA_VISIBLE_DEVICES="
   ]
  },
  {
   "cell_type": "code",
   "execution_count": 1,
   "id": "66d5f8c5-bf81-4d2e-ad33-71c7ba87ffa9",
   "metadata": {},
   "outputs": [],
   "source": [
    "import jax\n",
    "import jax.numpy as jnp\n",
    "import jax.random as jr\n",
    "import numpy as np\n",
    "from typing import NamedTuple\n",
    "import matplotlib.pyplot as plt\n",
    "import equinox as eqx\n",
    "from datetime import datetime\n",
    "\n",
    "from flowlenia.flowlenia_params import FlowLeniaParams as FLP, State, Config, beam_mutation\n",
    "from flowlenia.utils import conn_from_matrix\n",
    "from flowlenia.simutils import Simulator\n",
    "\n",
    "try:\n",
    "\timport _pickle as pickle \n",
    "except:\n",
    "\timport pickle\n",
    "import gzip"
   ]
  },
  {
   "cell_type": "code",
   "execution_count": 2,
   "id": "0ace68b4-4887-4222-b21a-f2fa28c11fcf",
   "metadata": {},
   "outputs": [],
   "source": [
    "def get_img(state):\n",
    "    A, P = state.A, state.P\n",
    "    return P[...,:3] * A.sum(-1, keepdims=True)\n",
    "\n",
    "import os\n",
    "os.environ['FFMPEG_BINARY'] = 'ffmpeg'\n",
    "import moviepy.editor as mvp\n",
    "from moviepy.video.io.ffmpeg_writer import FFMPEG_VideoWriter\n",
    "from IPython.display import HTML, display, clear_output\n",
    "\n",
    "class VideoWriter:\n",
    "    def __init__(self, filename, fps=30.0, **kw):\n",
    "        self.writer = None\n",
    "        self.params = dict(filename=filename, fps=fps, **kw)\n",
    "    \n",
    "    def add(self, img):\n",
    "        img = np.asarray(img)\n",
    "        if self.writer is None:\n",
    "            h, w = img.shape[:2]\n",
    "            self.writer = FFMPEG_VideoWriter(size=(w, h), **self.params)\n",
    "        if img.dtype in [np.float32, np.float64]:\n",
    "              img = np.uint8(img.clip(0, 1)*255)\n",
    "        if len(img.shape) == 2:\n",
    "            img = np.repeat(img[..., None], 3, -1)\n",
    "        self.writer.write_frame(img)\n",
    "    \n",
    "    def close(self):\n",
    "        if self.writer:\n",
    "            self.writer.close()\n",
    "    \n",
    "    def __enter__(self):\n",
    "        return self\n",
    "    \n",
    "    def __exit__(self, *kw):\n",
    "        self.close()\n",
    "    \n",
    "    def show(self, **kw):\n",
    "        self.close()\n",
    "        fn = self.params['filename']\n",
    "        display(mvp.ipython_display(fn, **kw))\n",
    "\n",
    "def display_states(states, filename, **kws): \n",
    "    with VideoWriter(filename, **kws) as vid:\n",
    "        for i in range(len(states)):\n",
    "            im = get_img(states[i])\n",
    "            vid.add(im)\n",
    "        vid.show(width=512, height=512)\n",
    "        vid.close()"
   ]
  },
  {
   "cell_type": "code",
   "execution_count": 3,
   "id": "74d94022-5c12-4ccf-83f2-2571d2471cc5",
   "metadata": {},
   "outputs": [],
   "source": [
    "SAVE_DIR = \"../evoflow_saves\""
   ]
  },
  {
   "cell_type": "markdown",
   "id": "080646e2-9a67-4065-b7d3-33fa554cf11c",
   "metadata": {},
   "source": [
    "# MultiSpecies"
   ]
  },
  {
   "cell_type": "code",
   "execution_count": 4,
   "id": "41cd33b4-b118-4cc8-a5f8-44afddf5a658",
   "metadata": {},
   "outputs": [],
   "source": [
    "from models.simple import SimpleFLP as SFLP, Config as SConfig\n",
    "from flowlenia.flowlenia_params import Config\n",
    "\n",
    "def transform_fn(data):\n",
    "    \"\"\"transform data before saving (runs XLA side)\"\"\"\n",
    "    return {\"t\": data[\"t\"], \"s\": data[\"s\"]}\n",
    "def host_transform_fn(data):\n",
    "    \"\"\"transform data befor saving (runs on host side)\"\"\"\n",
    "    s = data[\"s\"]\n",
    "    A, P = s.A, s.P\n",
    "    fP = P.reshape((-1, P.shape[-1]))\n",
    "    uP, iP, cP = np.unique(fP, axis=0, return_counts=True, return_inverse=True)\n",
    "    return {\"uP\": uP, \"cP\": cP, \"iP\": iP, \"A\": A.sum(-1)}\n",
    "\n",
    "def make_run(cfg, key, save_path, T=500_000, save_freq=100):\n",
    "    \"\"\"make a single run\"\"\"\n",
    "    mdl_key, sim_key = jr.split(key)\n",
    "    # --- Instantiate model ---\n",
    "    flp = SFLP(cfg, key=mdl_key)\n",
    "    # --- Setup simulator ---\n",
    "    sim = Simulator(flp, save_pth=save_path, zip_files=True, save_freq=save_freq, transform_fn=transform_fn, host_transform_fn=host_transform_fn)\n",
    "    print(\"Saving at: \", save_path)\n",
    "    # --- Simulate ---\n",
    "    s = sim.simulate(T, sim_key)\n",
    "\n",
    "def make_runs(cfg, T, seed, n_seeds):\n",
    "    \"\"\"make multiple runs with n_seeds different random seeds\"\"\"\n",
    "    date = datetime.now().strftime(\"%m_%d_%Y_%H_%M_%S\")\n",
    "    save_path = f\"{SAVE_DIR}/multispecies/{date}_{seed}\"\n",
    "    os.makedirs(save_path)\n",
    "    with open(f\"{save_path}/config.pickle\", \"wb\") as file:\n",
    "        pickle.dump(cfg, file)\n",
    "    key = jr.key(seed)\n",
    "    keys = jr.split(key, n_seeds)\n",
    "    for i, key in enumerate(keys):\n",
    "        seed_save_path = save_path+\"/\"+str(i)\n",
    "        os.makedirs(seed_save_path)\n",
    "        make_run(cfg, key, seed_save_path, T=T)"
   ]
  },
  {
   "cell_type": "code",
   "execution_count": 5,
   "id": "f860f253-1e98-43e6-a7d4-707e1822da22",
   "metadata": {},
   "outputs": [],
   "source": [
    "# Set the channel to channel connection matrix (M[i,j] = number of kerens from channel i to channel j)\n",
    "M = np.array([[5, 5, 5],\n",
    "              [5, 5, 5],\n",
    "              [5, 5, 5]], dtype = int)\n",
    "C = M.shape[0] # number of channels\n",
    "k = jnp.sum(M) # total number of kernels\n",
    "c0, c1 = conn_from_matrix(M) # out-channels and in-channels\n",
    "flp_cfg = Config(\n",
    "    X=512, #width of grid\n",
    "    Y=512, #height of grid\n",
    "    C=C,   #number of channels\n",
    "    k=k,   #number of kernels\n",
    "    c0=c0, #out-channels\n",
    "    c1=c1, # in-channels\n",
    "    mix_rule=\"stoch\", #parameter mixing rule\n",
    "    crossover_rate=0., #crossover rate\n",
    ")\n",
    "cfg = SConfig(flp_cfg=flp_cfg,\n",
    "             mutation_rate=0.001)"
   ]
  },
  {
   "cell_type": "code",
   "execution_count": null,
   "id": "86697633",
   "metadata": {},
   "outputs": [
    {
     "name": "stdout",
     "output_type": "stream",
     "text": [
      "path ../evoflow_saves/multispecies_test already exist, simulating can overwrite content\n",
      "Saving at:  ../evoflow_saves/multispecies_test\n"
     ]
    },
    {
     "name": "stderr",
     "output_type": "stream",
     "text": [
      "  0%|          | 310/100000 [16:27<89:49:32,  3.24s/it]"
     ]
    }
   ],
   "source": [
    "# make a single run\n",
    "\n",
    "save_path = f\"{SAVE_DIR}/multispecies_test\" #where  should run data be saved\n",
    "make_run(cfg, jax.random.key(0), save_path, T=100_000) #start run"
   ]
  },
  {
   "cell_type": "code",
   "execution_count": 10,
   "id": "c8b6adcb-3b19-4043-a08b-6fea12955524",
   "metadata": {},
   "outputs": [
    {
     "name": "stdout",
     "output_type": "stream",
     "text": [
      "path ../evoflow_saves/multispecies/06_04_2024_15_18_32_10/0 already exist, simulating can overwrite content\n",
      "Saving at:  ../evoflow_saves/multispecies/06_04_2024_15_18_32_10/0\n"
     ]
    },
    {
     "name": "stderr",
     "output_type": "stream",
     "text": [
      "100%|█████████████████████████████████████████████▉| 499710/500000 [2:59:57<00:06, 44.65it/s]"
     ]
    },
    {
     "name": "stdout",
     "output_type": "stream",
     "text": [
      "path ../evoflow_saves/multispecies/06_04_2024_15_18_32_10/1 already exist, simulating can overwrite content\n",
      "Saving at:  ../evoflow_saves/multispecies/06_04_2024_15_18_32_10/1\n"
     ]
    },
    {
     "name": "stderr",
     "output_type": "stream",
     "text": [
      "100%|█████████████████████████████████████████████▉| 499810/500000 [3:00:00<00:04, 44.34it/s]WARNING:py.warnings:/home/erwan/miniconda3/envs/jax/lib/python3.11/site-packages/jax/_src/ops/scatter.py:96: FutureWarning: scatter inputs have incompatible types: cannot safely cast value from dtype=float32 to dtype=int32 with jax_numpy_dtype_promotion='standard'. In future JAX releases this will result in an error.\n",
      "  warnings.warn(\n",
      "\n",
      "100%|██████████████████████████████████████████████| 500000/500000 [3:00:02<00:00, 46.28it/s]\n",
      " 72%|█████████████████████████████████             | 359510/500000 [2:08:08<51:31, 45.45it/s]IOPub message rate exceeded.\n",
      "The Jupyter server will temporarily stop sending output\n",
      "to the client in order to avoid crashing it.\n",
      "To change this limit, set the config variable\n",
      "`--ServerApp.iopub_msg_rate_limit`.\n",
      "\n",
      "Current values:\n",
      "ServerApp.iopub_msg_rate_limit=1000.0 (msgs/sec)\n",
      "ServerApp.rate_limit_window=3.0 (secs)\n",
      "\n"
     ]
    }
   ],
   "source": [
    "# Make 5 runs with different seeds\n",
    "\n",
    "seed = 10\n",
    "make_runs(cfg, seed, 5)"
   ]
  },
  {
   "cell_type": "markdown",
   "id": "49fbecc1-fc06-4513-af3e-082c3d552778",
   "metadata": {},
   "source": [
    "# Dissipative"
   ]
  },
  {
   "cell_type": "code",
   "execution_count": 5,
   "id": "1714a1e9-2932-4fe0-9746-bb6af4a5fee6",
   "metadata": {},
   "outputs": [],
   "source": [
    "from models.dissipative import DissipativeFLP as DFLP, Config as DConfig\n",
    "from flowlenia.flowlenia_params import Config"
   ]
  },
  {
   "cell_type": "code",
   "execution_count": 6,
   "id": "70ba3954-2cfc-4c73-860e-33e75f0344f0",
   "metadata": {},
   "outputs": [],
   "source": [
    "def transform_fn(data):\n",
    "    return {\"t\": data[\"t\"], \"s\": data[\"s\"]}\n",
    "def host_transform_fn(data):\n",
    "    s = data[\"s\"]\n",
    "    A, P = s.A, s.P\n",
    "    fP = P.reshape((-1, P.shape[-1]))\n",
    "    uP, iP, cP = np.unique(fP, axis=0, return_counts=True, return_inverse=True)\n",
    "    return {\"uP\": uP, \"cP\": cP, \"iP\": iP, \"A\": A.sum(-1)}\n",
    "\n",
    "def make_dissipative_run(cfg, key, save_path):\n",
    "    mdl_key, sim_key = jr.split(key)\n",
    "    # --- Instantiate model ---\n",
    "    flp = DFLP(cfg, key=mdl_key)\n",
    "    # --- Setup simulator ---\n",
    "    sim = Simulator(flp, save_pth=save_path, zip_files=True, save_freq=100, transform_fn=transform_fn, host_transform_fn=host_transform_fn)\n",
    "    print(\"Saving at: \", save_path)\n",
    "    # --- Simulate ---\n",
    "    T = 500_000\n",
    "    s = sim.simulate(T, sim_key)\n",
    "\n",
    "def make_dissipative_runs(cfg, seed, n_seeds):\n",
    "    date = datetime.now().strftime(\"%m_%d_%Y_%H_%M_%S\")\n",
    "    save_path = f\"{SAVE_DIR}/dissipative/{date}_{seed}\"\n",
    "    os.makedirs(save_path)\n",
    "    with open(f\"{save_path}/config.pickle\", \"wb\") as file:\n",
    "        pickle.dump(cfg, file)\n",
    "    key = jr.key(seed)\n",
    "    keys = jr.split(key, n_seeds)\n",
    "    for i, key in enumerate(keys):\n",
    "        seed_save_path = save_path+\"/\"+str(i)\n",
    "        os.makedirs(seed_save_path)\n",
    "        make_dissipative_run(cfg, key, seed_save_path)"
   ]
  },
  {
   "cell_type": "code",
   "execution_count": 9,
   "id": "dadee3e7-d5b8-4af2-b79a-4c9244aba617",
   "metadata": {},
   "outputs": [],
   "source": [
    "C = 3\n",
    "M = np.full((C,C), 5, dtype = int)\n",
    "k = jnp.sum(M)\n",
    "c0, c1 = conn_from_matrix(M)\n",
    "\n",
    "flp_cfg = Config(\n",
    "    X=512,\n",
    "    Y=512,\n",
    "    C=C,\n",
    "    k=k,\n",
    "    c0=c0,\n",
    "    c1=c1,\n",
    "    mix_rule=\"stoch\"\n",
    ")\n",
    "\n",
    "cfg = DConfig(\n",
    "    flp_cfg = flp_cfg,\n",
    "    n_init_species=64,\n",
    "    mutation_rate=0.0001,\n",
    "    beam_prob=.01,\n",
    ")"
   ]
  },
  {
   "cell_type": "code",
   "execution_count": 10,
   "id": "0dc76f9d-8948-472c-95c9-abfd81e7814d",
   "metadata": {},
   "outputs": [
    {
     "name": "stdout",
     "output_type": "stream",
     "text": [
      "path ../evoflow_saves/dissipative/02_29_2024_08_48_04_1/0 already exist, simulating can overwrite content\n",
      "Saving at:  ../evoflow_saves/dissipative/02_29_2024_08_48_04_1/0\n"
     ]
    },
    {
     "name": "stderr",
     "output_type": "stream",
     "text": [
      "100%|███████████████████████████████████████████████████████████████████████████████████████████████████████████████████████████████████████████████████▉| 499710/500000 [2:44:28<00:05, 50.18it/s]"
     ]
    },
    {
     "name": "stdout",
     "output_type": "stream",
     "text": [
      "path ../evoflow_saves/dissipative/02_29_2024_08_48_04_1/1 already exist, simulating can overwrite content\n",
      "Saving at:  ../evoflow_saves/dissipative/02_29_2024_08_48_04_1/1\n"
     ]
    },
    {
     "name": "stderr",
     "output_type": "stream",
     "text": [
      "100%|████████████████████████████████████████████████████████████████████████████████████████████████████████████████████████████████████████████████████| 500000/500000 [2:44:32<00:00, 50.64it/s]\n",
      "100%|███████████████████████████████████████████████████████████████████████████████████████████████████████████████████████████████████████████████████▉| 499710/500000 [2:47:21<00:05, 49.59it/s]"
     ]
    },
    {
     "name": "stdout",
     "output_type": "stream",
     "text": [
      "path ../evoflow_saves/dissipative/02_29_2024_08_48_04_1/2 already exist, simulating can overwrite content\n",
      "Saving at:  ../evoflow_saves/dissipative/02_29_2024_08_48_04_1/2\n"
     ]
    },
    {
     "name": "stderr",
     "output_type": "stream",
     "text": [
      "100%|████████████████████████████████████████████████████████████████████████████████████████████████████████████████████████████████████████████████████| 500000/500000 [2:47:25<00:00, 49.77it/s]\n",
      "100%|███████████████████████████████████████████████████████████████████████████████████████████████████████████████████████████████████████████████████▉| 499710/500000 [2:46:24<00:05, 50.58it/s]"
     ]
    },
    {
     "name": "stdout",
     "output_type": "stream",
     "text": [
      "path ../evoflow_saves/dissipative/02_29_2024_08_48_04_1/3 already exist, simulating can overwrite content\n",
      "Saving at:  ../evoflow_saves/dissipative/02_29_2024_08_48_04_1/3\n"
     ]
    },
    {
     "name": "stderr",
     "output_type": "stream",
     "text": [
      "100%|████████████████████████████████████████████████████████████████████████████████████████████████████████████████████████████████████████████████████| 500000/500000 [2:46:28<00:00, 50.06it/s]\n",
      "100%|███████████████████████████████████████████████████████████████████████████████████████████████████████████████████████████████████████████████████▉| 499710/500000 [2:45:52<00:05, 49.62it/s]"
     ]
    },
    {
     "name": "stdout",
     "output_type": "stream",
     "text": [
      "path ../evoflow_saves/dissipative/02_29_2024_08_48_04_1/4 already exist, simulating can overwrite content\n",
      "Saving at:  ../evoflow_saves/dissipative/02_29_2024_08_48_04_1/4\n"
     ]
    },
    {
     "name": "stderr",
     "output_type": "stream",
     "text": [
      "100%|████████████████████████████████████████████████████████████████████████████████████████████████████████████████████████████████████████████████████| 500000/500000 [2:45:57<00:00, 50.22it/s]\n",
      "100%|███████████████████████████████████████████████████████████████████████████████████████████████████████████████████████████████████████████████████▉| 499710/500000 [2:41:05<00:05, 51.96it/s]"
     ]
    }
   ],
   "source": [
    "seed = 1\n",
    "make_dissipative_runs(cfg, seed, 5)"
   ]
  },
  {
   "cell_type": "markdown",
   "id": "1ed40edd-0c1b-4382-858f-52b23a37abbd",
   "metadata": {},
   "source": [
    "# Food"
   ]
  },
  {
   "cell_type": "code",
   "execution_count": 13,
   "id": "b038f687-e907-4274-801e-79413cda7dd8",
   "metadata": {},
   "outputs": [],
   "source": [
    "from models.food import FoodFLP as FFLP, Config as FConfig\n",
    "\n",
    "def transform_fn(data):\n",
    "    return {\"t\": data[\"t\"], \"s\": data[\"s\"]}\n",
    "def host_transform_fn(data):\n",
    "    s = data[\"s\"]\n",
    "    A, P = s.A, s.P\n",
    "    fP = P.reshape((-1, P.shape[-1]))\n",
    "    uP, iP, cP = jnp.unique(fP, axis=0, return_counts=True, return_inverse=True)\n",
    "    return {\"uP\": uP, \"cP\": cP, \"iP\": iP, \"A\": A.sum(-1)}\n",
    "\n",
    "def make_food_run(cfg, key, save_path):\n",
    "    mdl_key, sim_key = jr.split(key)\n",
    "    # --- Instantiate model ---\n",
    "    flp = FFLP(cfg, key=mdl_key)\n",
    "    # --- Setup simulator ---\n",
    "    sim = Simulator(flp, save_pth=save_path, zip_files=True, save_freq=100, transform_fn=transform_fn, host_transform_fn=host_transform_fn)\n",
    "    print(\"Saving at: \", save_path)\n",
    "    # --- Simulate ---\n",
    "    T = 500_000\n",
    "    s = sim.simulate(T, sim_key)\n",
    "\n",
    "def make_food_runs(cfg, seed, n_seeds):\n",
    "    date = datetime.now().strftime(\"%m_%d_%Y_%H_%M_%S\")\n",
    "    save_path = f\"{SAVE_DIR}/food/{date}_{seed}\"\n",
    "    os.makedirs(save_path)\n",
    "    with open(f\"{save_path}/config.pickle\", \"wb\") as file:\n",
    "        pickle.dump(cfg, file)\n",
    "    key = jr.key(seed)\n",
    "    keys = jr.split(key, n_seeds)\n",
    "    for i, key in enumerate(keys):\n",
    "        seed_save_path = save_path+\"/\"+str(i)\n",
    "        os.makedirs(seed_save_path)\n",
    "        make_food_run(cfg, key, seed_save_path)"
   ]
  },
  {
   "cell_type": "code",
   "execution_count": 16,
   "id": "501fdb45-c8d3-4653-aa49-e35d266588ae",
   "metadata": {},
   "outputs": [],
   "source": [
    "C = 4\n",
    "M = np.full((C,C), 4, dtype = int)\n",
    "M[:, 0] = 0\n",
    "k = jnp.sum(M)\n",
    "c0, c1 = conn_from_matrix(M)\n",
    "\n",
    "flp_cfg = Config(\n",
    "    X=512,\n",
    "    Y=512,\n",
    "    C=C,\n",
    "    k=k,\n",
    "    c0=c0,\n",
    "    c1=c1,\n",
    "    mix_rule=\"stoch\",\n",
    ")\n",
    "\n",
    "cfg = FConfig(\n",
    "    flp_cfg = flp_cfg,\n",
    "    n_init_species=64,\n",
    "    mutation_rate=0.001,\n",
    "    food_to_matter_ratio=1.,\n",
    "    decay_rate=.0001,\n",
    "    food_birth_rate=0.1\n",
    ")"
   ]
  },
  {
   "cell_type": "code",
   "execution_count": null,
   "id": "567633bd-7876-4d28-9f24-66c46343e7d8",
   "metadata": {},
   "outputs": [
    {
     "name": "stdout",
     "output_type": "stream",
     "text": [
      "path ../evoflow_saves/food/02_26_2024_10_36_15_1/0 already exist, simulating can overwrite content\n",
      "Saving at:  ../evoflow_saves/food/02_26_2024_10_36_15_1/0\n"
     ]
    },
    {
     "name": "stderr",
     "output_type": "stream",
     "text": [
      "100%|████████████████████████████████████████████████████████████████████████████████████████████████████████████████████████████████████████████████████| 500000/500000 [1:50:00<00:00, 75.75it/s]\n",
      "WARNING:py.warnings:/home/erwan/miniconda3/envs/jax/lib/python3.11/site-packages/jax/_src/ops/scatter.py:96: FutureWarning: scatter inputs have incompatible types: cannot safely cast value from dtype=float32 to dtype=int32 with jax_numpy_dtype_promotion='standard'. In future JAX releases this will result in an error.\n",
      "  warnings.warn(\n",
      "\n"
     ]
    },
    {
     "name": "stdout",
     "output_type": "stream",
     "text": [
      "path ../evoflow_saves/food/02_26_2024_10_36_15_1/1 already exist, simulating can overwrite content\n",
      "Saving at:  ../evoflow_saves/food/02_26_2024_10_36_15_1/1\n"
     ]
    },
    {
     "name": "stderr",
     "output_type": "stream",
     "text": [
      "100%|████████████████████████████████████████████████████████████████████████████████████████████████████████████████████████████████████████████████████| 500000/500000 [1:49:38<00:00, 76.01it/s]\n"
     ]
    },
    {
     "name": "stdout",
     "output_type": "stream",
     "text": [
      "path ../evoflow_saves/food/02_26_2024_10_36_15_1/2 already exist, simulating can overwrite content\n",
      "Saving at:  ../evoflow_saves/food/02_26_2024_10_36_15_1/2\n"
     ]
    },
    {
     "name": "stderr",
     "output_type": "stream",
     "text": [
      "100%|████████████████████████████████████████████████████████████████████████████████████████████████████████████████████████████████████████████████████| 500000/500000 [1:49:15<00:00, 76.27it/s]\n"
     ]
    },
    {
     "name": "stdout",
     "output_type": "stream",
     "text": [
      "path ../evoflow_saves/food/02_26_2024_10_36_15_1/3 already exist, simulating can overwrite content\n",
      "Saving at:  ../evoflow_saves/food/02_26_2024_10_36_15_1/3\n"
     ]
    },
    {
     "name": "stderr",
     "output_type": "stream",
     "text": [
      "100%|████████████████████████████████████████████████████████████████████████████████████████████████████████████████████████████████████████████████████| 500000/500000 [1:49:35<00:00, 76.04it/s]\n"
     ]
    },
    {
     "name": "stdout",
     "output_type": "stream",
     "text": [
      "path ../evoflow_saves/food/02_26_2024_10_36_15_1/4 already exist, simulating can overwrite content\n",
      "Saving at:  ../evoflow_saves/food/02_26_2024_10_36_15_1/4\n"
     ]
    },
    {
     "name": "stderr",
     "output_type": "stream",
     "text": [
      " 26%|█████████████████████████████████████▉                                                                                                              | 128305/500000 [28:02<1:15:42, 81.83it/s]"
     ]
    }
   ],
   "source": [
    "seed = 1\n",
    "make_food_runs(cfg, seed, 5)"
   ]
  }
 ],
 "metadata": {
  "kernelspec": {
   "display_name": "fl",
   "language": "python",
   "name": "python3"
  },
  "language_info": {
   "codemirror_mode": {
    "name": "ipython",
    "version": 3
   },
   "file_extension": ".py",
   "mimetype": "text/x-python",
   "name": "python",
   "nbconvert_exporter": "python",
   "pygments_lexer": "ipython3",
   "version": "3.11.5"
  }
 },
 "nbformat": 4,
 "nbformat_minor": 5
}
